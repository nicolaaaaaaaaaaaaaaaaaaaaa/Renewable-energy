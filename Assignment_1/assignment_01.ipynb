{
 "cells": [
  {
   "cell_type": "code",
   "execution_count": 16,
   "metadata": {},
   "outputs": [],
   "source": [
    "# packages\n",
    "\n",
    "import numpy as np\n",
    "import math as m\n",
    "import pandas as pd\n",
    "import matplotlib.pyplot as plt\n",
    "import scipy.integrate as integrate\n",
    "from scipy.optimize import fsolve\n",
    "import os\n",
    "os.chdir('C:\\\\Users\\\\nicol\\\\Desktop\\\\pythonfiles\\\\renewable energy\\\\assignment_01')  # change this to your directory\n"
   ]
  },
  {
   "cell_type": "code",
   "execution_count": 17,
   "metadata": {},
   "outputs": [],
   "source": [
    "# data\n",
    "\n",
    "table1 = pd.read_excel('DATA.xlsx', sheet_name='TABLE 1')\n",
    "table2 = pd.read_excel('DATA.xlsx', sheet_name='TABLE 2')\n",
    "table3 = pd.read_excel('DATA.xlsx', sheet_name='TABLE 3')\n",
    "table4 = pd.read_excel('DATA.xlsx', sheet_name='TABLE 4')\n",
    "table5 = pd.read_excel('DATA.xlsx', sheet_name='TABLE 5')\n",
    "\n",
    "\n",
    "# zones\n",
    "position = np.arange(1,44)\n",
    "zone = pd.DataFrame({'position': position})\n",
    "\n",
    "for i in range(1,16):\n",
    "    name = 'scen_zone' + str(i) + '.out'\n",
    "    data = pd.read_csv(name)\n",
    "    data.drop(data.columns[0], axis=1, inplace=True)\n",
    "    data.drop(data.index[-1], inplace=True)\n",
    "    avg = data.mean(axis=1)\n",
    "    zone[i] = avg\n"
   ]
  },
  {
   "cell_type": "code",
   "execution_count": 18,
   "metadata": {},
   "outputs": [
    {
     "name": "stdout",
     "output_type": "stream",
     "text": [
      "0     152\n",
      "1     152\n",
      "2     350\n",
      "3     591\n",
      "4      60\n",
      "5     155\n",
      "6     155\n",
      "7     400\n",
      "8     400\n",
      "9     300\n",
      "10    310\n",
      "11    350\n",
      "Name: Pmax, dtype: int64\n"
     ]
    }
   ],
   "source": [
    "# task 1\n",
    "print(table1['Pmax'])"
   ]
  }
 ],
 "metadata": {
  "kernelspec": {
   "display_name": "myvenv",
   "language": "python",
   "name": "python3"
  },
  "language_info": {
   "codemirror_mode": {
    "name": "ipython",
    "version": 3
   },
   "file_extension": ".py",
   "mimetype": "text/x-python",
   "name": "python",
   "nbconvert_exporter": "python",
   "pygments_lexer": "ipython3",
   "version": "3.11.5"
  }
 },
 "nbformat": 4,
 "nbformat_minor": 2
}
