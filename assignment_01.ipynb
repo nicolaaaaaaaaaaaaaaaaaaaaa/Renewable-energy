{
 "cells": [
  {
   "cell_type": "code",
   "execution_count": 11,
   "metadata": {},
   "outputs": [],
   "source": [
    "# packages\n",
    "\n",
    "import numpy as np\n",
    "import math as m\n",
    "import pandas as pd\n",
    "import matplotlib.pyplot as plt\n",
    "import scipy.integrate as integrate\n",
    "from scipy.optimize import fsolve\n",
    "import os\n",
    "os.chdir('C:\\\\Users\\\\nicol\\\\Desktop\\\\pythonfiles\\\\renewable energy\\\\assignment_01')  # change this to your directory\n"
   ]
  },
  {
   "cell_type": "code",
   "execution_count": 15,
   "metadata": {},
   "outputs": [],
   "source": [
    "# data\n",
    "\n",
    "table1 = pd.read_excel('DATA.xlsx', sheet_name='TABLE 1')\n",
    "table2 = pd.read_excel('DATA.xlsx', sheet_name='TABLE 2')\n",
    "table3 = pd.read_excel('DATA.xlsx', sheet_name='TABLE 3')\n",
    "table4 = pd.read_excel('DATA.xlsx', sheet_name='TABLE 4')\n",
    "table5 = pd.read_excel('DATA.xlsx', sheet_name='TABLE 5')\n"
   ]
  },
  {
   "cell_type": "code",
   "execution_count": null,
   "metadata": {},
   "outputs": [],
   "source": [
    "# task 1"
   ]
  }
 ],
 "metadata": {
  "kernelspec": {
   "display_name": "myvenv",
   "language": "python",
   "name": "python3"
  },
  "language_info": {
   "codemirror_mode": {
    "name": "ipython",
    "version": 3
   },
   "file_extension": ".py",
   "mimetype": "text/x-python",
   "name": "python",
   "nbconvert_exporter": "python",
   "pygments_lexer": "ipython3",
   "version": "3.11.5"
  }
 },
 "nbformat": 4,
 "nbformat_minor": 2
}
