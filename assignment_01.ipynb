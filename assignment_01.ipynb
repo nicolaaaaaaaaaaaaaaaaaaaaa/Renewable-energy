{
 "cells": [
  {
   "cell_type": "code",
   "execution_count": 11,
   "metadata": {},
   "outputs": [],
   "source": [
    "# packages\n",
    "\n",
    "import numpy as np\n",
    "import math as m\n",
    "import pandas as pd\n",
    "import matplotlib.pyplot as plt\n",
    "import scipy.integrate as integrate\n",
    "from scipy.optimize import fsolve\n",
    "import os\n",
    "os.chdir('C:\\\\Users\\\\nicol\\\\Desktop\\\\pythonfiles\\\\renewable energy\\\\assignment_01')  # change this to your directory\n"
   ]
  },
  {
   "cell_type": "code",
   "execution_count": 37,
   "metadata": {},
   "outputs": [],
   "source": [
    "# data\n",
    "\n",
    "table1 = pd.read_excel('DATA.xlsx', sheet_name='TABLE 1')\n",
    "table2 = pd.read_excel('DATA.xlsx', sheet_name='TABLE 2')\n",
    "table3 = pd.read_excel('DATA.xlsx', sheet_name='TABLE 3')\n",
    "table4 = pd.read_excel('DATA.xlsx', sheet_name='TABLE 4')\n",
    "table5 = pd.read_excel('DATA.xlsx', sheet_name='TABLE 5')\n",
    "\n",
    "zone1  =pd.read_csv('scen_zone1.out')\n",
    "zone2  =pd.read_csv('scen_zone2.out')\n",
    "zone3  =pd.read_csv('scen_zone3.out')\n",
    "zone4  =pd.read_csv('scen_zone4.out')\n",
    "zone5  =pd.read_csv('scen_zone5.out')\n",
    "zone6  =pd.read_csv('scen_zone6.out')\n",
    "zone7  =pd.read_csv('scen_zone7.out')\n",
    "zone8  =pd.read_csv('scen_zone8.out')\n",
    "zone9  =pd.read_csv('scen_zone9.out')\n",
    "zone10 =pd.read_csv('scen_zone10.out')\n",
    "zone11 =pd.read_csv('scen_zone11.out')\n",
    "zone12 =pd.read_csv('scen_zone12.out')\n",
    "zone13 =pd.read_csv('scen_zone13.out')\n",
    "zone14 =pd.read_csv('scen_zone14.out')\n",
    "zone15 =pd.read_csv('scen_zone15.out')\n"
   ]
  },
  {
   "cell_type": "code",
   "execution_count": null,
   "metadata": {},
   "outputs": [],
   "source": [
    "# zone 1\n"
   ]
  },
  {
   "cell_type": "code",
   "execution_count": 18,
   "metadata": {},
   "outputs": [
    {
     "name": "stdout",
     "output_type": "stream",
     "text": [
      "30.4\n",
      "0      1\n",
      "1      2\n",
      "2      7\n",
      "3     13\n",
      "4     15\n",
      "5     15\n",
      "6     16\n",
      "7     18\n",
      "8     21\n",
      "9     22\n",
      "10    23\n",
      "11    23\n",
      "Name: Node, dtype: int64\n"
     ]
    }
   ],
   "source": [
    "# task 1\n",
    "\n",
    "print(table1['Pmin'][0])\n",
    "print(table1['Node'])"
   ]
  }
 ],
 "metadata": {
  "kernelspec": {
   "display_name": "myvenv",
   "language": "python",
   "name": "python3"
  },
  "language_info": {
   "codemirror_mode": {
    "name": "ipython",
    "version": 3
   },
   "file_extension": ".py",
   "mimetype": "text/x-python",
   "name": "python",
   "nbconvert_exporter": "python",
   "pygments_lexer": "ipython3",
   "version": "3.11.5"
  }
 },
 "nbformat": 4,
 "nbformat_minor": 2
}
